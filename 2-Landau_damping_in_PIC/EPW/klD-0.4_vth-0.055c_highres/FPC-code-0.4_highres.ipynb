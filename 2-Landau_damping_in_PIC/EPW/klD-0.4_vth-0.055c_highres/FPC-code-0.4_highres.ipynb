{
 "cells": [
  {
   "cell_type": "code",
   "execution_count": 2,
   "metadata": {},
   "outputs": [],
   "source": [
    "import sys\n",
    "sys.path.append('../../../vysxd')\n",
    "import numpy as np\n",
    "import matplotlib.pyplot as plt\n",
    "import matplotlib.animation as manimation\n",
    "from FPC_define import *"
   ]
  },
  {
   "cell_type": "code",
   "execution_count": 3,
   "metadata": {},
   "outputs": [
    {
     "ename": "ValueError",
     "evalue": "could not broadcast input array from shape (128,) into shape (118,)",
     "output_type": "error",
     "traceback": [
      "\u001b[0;31m---------------------------------------------------------------------------\u001b[0m",
      "\u001b[0;31mValueError\u001b[0m                                Traceback (most recent call last)",
      "Cell \u001b[0;32mIn[3], line 1\u001b[0m\n\u001b[0;32m----> 1\u001b[0m A, B \u001b[38;5;241m=\u001b[39m \u001b[43mFPC\u001b[49m\u001b[43m(\u001b[49m\u001b[38;5;124;43m'\u001b[39;49m\u001b[38;5;124;43mEPW-alves\u001b[39;49m\u001b[38;5;124;43m'\u001b[39;49m\u001b[43m)\u001b[49m\n",
      "File \u001b[0;32m~/vscode/Landau-damping-EPW-IAW/2-Landau_damping_in_PIC/EPW/klD-0.4_vth-0.055c_highres/../../../vysxd/FPC_define.py:15\u001b[0m, in \u001b[0;36mFPC\u001b[0;34m(directory)\u001b[0m\n\u001b[1;32m     12\u001b[0m \u001b[38;5;28;01mfor\u001b[39;00m i \u001b[38;5;129;01min\u001b[39;00m \u001b[38;5;28mrange\u001b[39m(\u001b[38;5;28mlen\u001b[39m(p1x1_files)\u001b[38;5;241m-\u001b[39m\u001b[38;5;241m1\u001b[39m):\n\u001b[1;32m     13\u001b[0m     p1x1 \u001b[38;5;241m=\u001b[39m vysxd_get_data(\u001b[38;5;124m'\u001b[39m\u001b[38;5;124mEPW-alves/MS/PHA/p1x1/electrons/\u001b[39m\u001b[38;5;124m'\u001b[39m \u001b[38;5;241m+\u001b[39m p1x1_files[i])\n\u001b[0;32m---> 15\u001b[0m     e1_D_xt \u001b[38;5;241m=\u001b[39m \u001b[43mget_osiris_quantity_1d\u001b[49m\u001b[43m(\u001b[49m\u001b[38;5;124;43mf\u001b[39;49m\u001b[38;5;124;43m'\u001b[39;49m\u001b[38;5;132;43;01m{\u001b[39;49;00m\u001b[43mdirectory\u001b[49m\u001b[38;5;132;43;01m}\u001b[39;49;00m\u001b[38;5;124;43m/MS/FLD/e1/\u001b[39;49m\u001b[38;5;124;43m'\u001b[39;49m\u001b[43m)\u001b[49m[\u001b[38;5;241m0\u001b[39m]\n\u001b[1;32m     17\u001b[0m     e1_D_xt \u001b[38;5;241m=\u001b[39m e1_D_xt[i][\u001b[38;5;241m1\u001b[39m:\u001b[38;5;241m-\u001b[39m\u001b[38;5;241m1\u001b[39m]\n\u001b[1;32m     18\u001b[0m     e1_D_xt \u001b[38;5;241m=\u001b[39m np\u001b[38;5;241m.\u001b[39marray([e1_D_xt]\u001b[38;5;241m*\u001b[39m\u001b[38;5;28mlen\u001b[39m(p1x1\u001b[38;5;241m.\u001b[39mY))\n",
      "File \u001b[0;32m~/vscode/Landau-damping-EPW-IAW/2-Landau_damping_in_PIC/EPW/klD-0.4_vth-0.055c_highres/../../../vysxd/vysxd_analysis.py:32\u001b[0m, in \u001b[0;36mget_osiris_quantity_1d\u001b[0;34m(quant_path, n_start, n_end, n_skip)\u001b[0m\n\u001b[1;32m     30\u001b[0m \u001b[38;5;28;01mfor\u001b[39;00m i \u001b[38;5;129;01min\u001b[39;00m \u001b[38;5;28mrange\u001b[39m(\u001b[38;5;241m1\u001b[39m, n_t):\n\u001b[1;32m     31\u001b[0m     quant \u001b[38;5;241m=\u001b[39m vysxd_get_data(quant_path \u001b[38;5;241m+\u001b[39m quant_list[i])\n\u001b[0;32m---> 32\u001b[0m     \u001b[43mQ\u001b[49m\u001b[43m[\u001b[49m\u001b[43mi\u001b[49m\u001b[43m,\u001b[49m\u001b[43m:\u001b[49m\u001b[43m]\u001b[49m \u001b[38;5;241m=\u001b[39m quant\u001b[38;5;241m.\u001b[39mDATA\n\u001b[1;32m     33\u001b[0m     t[i] \u001b[38;5;241m=\u001b[39m quant\u001b[38;5;241m.\u001b[39mTIME[\u001b[38;5;241m0\u001b[39m]\n\u001b[1;32m     35\u001b[0m dt \u001b[38;5;241m=\u001b[39m t[\u001b[38;5;241m1\u001b[39m]\u001b[38;5;241m-\u001b[39mt[\u001b[38;5;241m0\u001b[39m]\n",
      "\u001b[0;31mValueError\u001b[0m: could not broadcast input array from shape (128,) into shape (118,)"
     ]
    }
   ],
   "source": [
    "A, B = FPC('EPW-alves')"
   ]
  },
  {
   "cell_type": "markdown",
   "metadata": {},
   "source": [
    "We are interested to see the energy transfer in velocity space, so we need to integrate over x\n",
    "\n",
    "Alternatively, just pick an x position that you want to look at."
   ]
  },
  {
   "cell_type": "code",
   "execution_count": 9,
   "metadata": {},
   "outputs": [
    {
     "data": {
      "text/plain": [
       "(126, 162)"
      ]
     },
     "execution_count": 9,
     "metadata": {},
     "output_type": "execute_result"
    }
   ],
   "source": [
    "A_int_wrt_x = np.trapz(A, axis = 0)\n",
    "B_int_wrt_x = np.trapz(B, axis = 0)\n",
    "\n",
    "# x_pos = 50\n",
    "# A_int_wrt_x = A[x_pos,:,:]\n",
    "# B_int_wrt_x = B[x_pos,:,:]\n",
    "\n",
    "\n",
    "np.shape(A_int_wrt_x)"
   ]
  },
  {
   "cell_type": "markdown",
   "metadata": {},
   "source": [
    "Now, integrate over a couple timesteps such that the dissipative energy transfer overpowers the oscillatory"
   ]
  },
  {
   "cell_type": "code",
   "execution_count": 1,
   "metadata": {},
   "outputs": [
    {
     "ename": "NameError",
     "evalue": "name 'manimation' is not defined",
     "output_type": "error",
     "traceback": [
      "\u001b[0;31m---------------------------------------------------------------------------\u001b[0m",
      "\u001b[0;31mNameError\u001b[0m                                 Traceback (most recent call last)",
      "Cell \u001b[0;32mIn[1], line 1\u001b[0m\n\u001b[0;32m----> 1\u001b[0m FFMpegWriter \u001b[38;5;241m=\u001b[39m \u001b[43mmanimation\u001b[49m\u001b[38;5;241m.\u001b[39mwriters[\u001b[38;5;124m'\u001b[39m\u001b[38;5;124mffmpeg\u001b[39m\u001b[38;5;124m'\u001b[39m]\n\u001b[1;32m      2\u001b[0m metadata \u001b[38;5;241m=\u001b[39m \u001b[38;5;28mdict\u001b[39m(title\u001b[38;5;241m=\u001b[39m\u001b[38;5;124m'\u001b[39m\u001b[38;5;124mphase-space-animation\u001b[39m\u001b[38;5;124m'\u001b[39m, artist\u001b[38;5;241m=\u001b[39m\u001b[38;5;124m'\u001b[39m\u001b[38;5;124mMatplotlib\u001b[39m\u001b[38;5;124m'\u001b[39m,\n\u001b[1;32m      3\u001b[0m                 comment\u001b[38;5;241m=\u001b[39m\u001b[38;5;124m'\u001b[39m\u001b[38;5;124mvisualizing the phase space evolution of the distribution function\u001b[39m\u001b[38;5;124m'\u001b[39m) \u001b[38;5;66;03m# Describe what the animation is\u001b[39;00m\n\u001b[1;32m      4\u001b[0m writer \u001b[38;5;241m=\u001b[39m FFMpegWriter(fps\u001b[38;5;241m=\u001b[39m\u001b[38;5;241m24\u001b[39m, metadata\u001b[38;5;241m=\u001b[39mmetadata) \u001b[38;5;66;03m# you can adjust the fps here.\u001b[39;00m\n",
      "\u001b[0;31mNameError\u001b[0m: name 'manimation' is not defined"
     ]
    }
   ],
   "source": [
    "FFMpegWriter = manimation.writers['ffmpeg']\n",
    "metadata = dict(title='phase-space-animation', artist='Matplotlib',\n",
    "                comment='visualizing the phase space evolution of the distribution function') # Describe what the animation is\n",
    "writer = FFMpegWriter(fps=24, metadata=metadata) # you can adjust the fps here.\n",
    "\n",
    "# Initialize the movie\n",
    "fig = plt.figure()\n",
    "window = 2\n",
    "with writer.saving(fig, f\"FPC_movie_kld-0.4_window_{window}.mp4\", dpi=400):\n",
    "\n",
    "    for i in range (101,500):\n",
    "        A_full_int = np.trapz(A_int_wrt_x[:,100:i], axis = 1)\n",
    "        B_full_int = np.trapz(B_int_wrt_x[:,100:i], axis = 1)\n",
    "        plt.scatter(np.linspace(-0.3,0.3, len(B_full_int)),B_full_int,label = r'$\\frac{dW}{dt}(v)$', s = 1)  \n",
    "        # plt.scatter(np.linspace(-0.3,0.3, len(A_full_int)),A_full_int+B_full_int, label = r'$\\frac{dW}{dt}(v)$ with v $\\cdot \\nabla$ term')\n",
    "        vphase = 0.0705\n",
    "        plt.vlines([vphase],-0.0004,+0.0004, label = r'$v_{\\phi} =$'+ str(vphase), colors = 'black')\n",
    "        # plt.xlim(0,0.2)\n",
    "        plt.ylabel('integrated change in energy density')\n",
    "        plt.xlabel('v/c')\n",
    "        plt.legend()\n",
    "        writer.grab_frame()\n",
    "        plt.cla()\n"
   ]
  },
  {
   "cell_type": "code",
   "execution_count": null,
   "metadata": {},
   "outputs": [],
   "source": []
  }
 ],
 "metadata": {
  "kernelspec": {
   "display_name": "Python 3",
   "language": "python",
   "name": "python3"
  },
  "language_info": {
   "codemirror_mode": {
    "name": "ipython",
    "version": 3
   },
   "file_extension": ".py",
   "mimetype": "text/x-python",
   "name": "python",
   "nbconvert_exporter": "python",
   "pygments_lexer": "ipython3",
   "version": "3.10.12"
  }
 },
 "nbformat": 4,
 "nbformat_minor": 2
}
