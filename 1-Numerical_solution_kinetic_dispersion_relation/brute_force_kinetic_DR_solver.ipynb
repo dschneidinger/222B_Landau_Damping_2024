{
 "cells": [
  {
   "cell_type": "code",
   "execution_count": 1,
   "metadata": {},
   "outputs": [],
   "source": [
    "import numpy as np\n",
    "import matplotlib.pyplot as plt\n",
    "from matplotlib import cm\n",
    "import matplotlib.colors as colors\n",
    "from scipy.special import erf\n",
    "\n",
    "\n",
    "%matplotlib inline"
   ]
  },
  {
   "cell_type": "code",
   "execution_count": 81,
   "metadata": {},
   "outputs": [
    {
     "data": {
      "image/png": "[encoded data removed]",
      "text/plain": [
       "<Figure size 432x288 with 2 Axes>"
      ]
     },
     "metadata": {
      "needs_background": "light"
     },
     "output_type": "display_data"
    }
   ],
   "source": [
    "def dfMdv(v):\n",
    "    return 1./np.sqrt(2*np.pi) * (-v) * np.exp(-0.5*v**2)\n",
    "\n",
    "def dfBOTdv(v, v0, nb):\n",
    "    return (1-nb)*1./np.sqrt(2*np.pi) * (-v) * np.exp(-0.5*v**2) + 0.5*nb*(1./np.sqrt(2*np.pi) * (-(v-v0))*np.exp(-0.5*(v-v0)**2)) + 0.5*nb*(1./np.sqrt(2*np.pi) * (-(v+v0))*np.exp(-0.5*(v+v0)**2))\n",
    "\n",
    "def D_analytic(wr, wi, k0, v0, nb):\n",
    "    vphi = wr/k0\n",
    "    eps_v = 1e-3\n",
    "    v = np.linspace(-12, vphi-eps_v,2048)\n",
    "    integral = np.trapz(dfBOTdv(v, v0, nb) / (v-(wr+1j*wi)/k0), v)\n",
    "    v = np.linspace(vphi+eps_v,12, 2048)\n",
    "    integral += np.trapz(dfBOTdv(v, v0, nb) / (v-(wr+1j*wi)/k0), v)\n",
    "    d = 1.-1./(k0**2) *integral\n",
    "    # deforming contour under pole\n",
    "    if wi == 0:\n",
    "        d -= 1j*np.pi/k0**2 * dfBOTdv((wr+1j*wi)/k0, v0, nb)\n",
    "    elif wi<0:\n",
    "        d -= 2j*np.pi/k0**2 * dfBOTdv((wr+1j*wi)/k0, v0, nb)\n",
    "    return d\n",
    "\n",
    "def find_w_roots(k0, v0, nb):\n",
    "    Wr = np.linspace(0,1.7,128)\n",
    "    Wi = np.linspace(-0.3,0.3,101)\n",
    "\n",
    "    D_analytic_arr = np.zeros((len(Wi), len(Wr)), dtype = complex)\n",
    "    for i in range(len(Wi)):\n",
    "        for j in range(len(Wr)):\n",
    "            D_analytic_arr[i,j] = D_analytic(Wr[j], Wi[i], k0=k0, v0 = v0, nb = nb)\n",
    "    \n",
    "    D_analytic_arr = np.abs(D_analytic_arr)\n",
    "    zeros = np.where(D_analytic_arr<2*D_analytic_arr.min())\n",
    "    return Wr[zeros[1]][:], Wi[zeros[0]][:]\n",
    "    \n",
    "# print(find_w_roots(k0=0.3))\n",
    "\n",
    "ax1 = plt.subplot(1,2,1)\n",
    "ax1.set_xlabel(r'$k\\lambda_D$')\n",
    "ax1.set_ylabel(r'$\\omega_R/\\omega_p$')\n",
    "ax2 = plt.subplot(1,2,2)\n",
    "ax2.set_xlabel(r'$k\\lambda_D$')\n",
    "ax2.set_ylabel(r'$\\omega_I/\\omega_p$')\n",
    "\n",
    "k0s = np.linspace(0.01,0.6,14)\n",
    "for k0 in k0s:\n",
    "    Wrs, Wis = find_w_roots(k0, v0 = 4, nb = 0.1)\n",
    "    ax1.scatter(k0*np.ones(len(Wrs)), Wrs)\n",
    "    ax2.scatter(k0*np.ones(len(Wis)), Wis)\n",
    "\n",
    "plt.tight_layout()\n",
    "\n"
   ]
  },
  {
   "cell_type": "code",
   "execution_count": null,
   "metadata": {},
   "outputs": [],
   "source": []
  }
 ],
 "metadata": {
  "kernelspec": {
   "display_name": "Python 3",
   "language": "python",
   "name": "python3"
  },
  "language_info": {
   "codemirror_mode": {
    "name": "ipython",
    "version": 3
   },
   "file_extension": ".py",
   "mimetype": "text/x-python",
   "name": "python",
   "nbconvert_exporter": "python",
   "pygments_lexer": "ipython3",
   "version": "3.8.3"
  }
 },
 "nbformat": 4,
 "nbformat_minor": 4
}
