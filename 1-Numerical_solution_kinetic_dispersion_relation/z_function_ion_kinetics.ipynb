{
 "cells": [
  {
   "cell_type": "code",
   "execution_count": null,
   "metadata": {},
   "outputs": [],
   "source": [
    "from brute_force_kinetic_DR_solver.ipynb import *"
   ]
  },
  {
   "cell_type": "code",
   "execution_count": 2,
   "metadata": {},
   "outputs": [],
   "source": [
    "import numpy as np\n",
    "import matplotlib.pyplot as plt\n",
    "from matplotlib import cm\n",
    "import matplotlib.colors as colors\n",
    "from scipy.special import erf\n",
    "\n",
    "\n",
    "%matplotlib inline"
   ]
  },
  {
   "cell_type": "code",
   "execution_count": 3,
   "metadata": {},
   "outputs": [],
   "source": [
    "def dfMdv(v):\n",
    "    return 1./np.sqrt(2*np.pi) * (-v) * np.exp(-0.5*v**2)\n",
    "\n",
    "def dfBOTdv(v, v0, nb):\n",
    "    return (1-nb)*dfMdv(v) + 0.5*nb*(dfMdv(v-v0)) + 0.5*nb*(dfMdv(v+v0))\n",
    "\n",
    "def D_analytic(wr, wi, k0, v0, nb):\n",
    "    vphi = wr/k0\n",
    "    eps_v = 1e-3\n",
    "    v = np.linspace(-12, vphi-eps_v,2048)\n",
    "    integral = np.trapz(dfBOTdv(v, v0, nb) / (v-(wr+1j*wi)/k0), v)\n",
    "    v = np.linspace(vphi+eps_v,12, 2048)\n",
    "    integral += np.trapz(dfBOTdv(v, v0, nb) / (v-(wr+1j*wi)/k0), v)\n",
    "    d = 1.-1./(k0**2) *integral\n",
    "    # deforming contour under pole\n",
    "    if wi == 0:\n",
    "        d -= 1j*np.pi/k0**2 * dfBOTdv((wr+1j*wi)/k0, v0, nb)\n",
    "    elif wi<0:\n",
    "        d -= 2j*np.pi/k0**2 * dfBOTdv((wr+1j*wi)/k0, v0, nb)\n",
    "    return d\n",
    "\n",
    "def find_w_roots(k0, v0, nb, method = D_analytic):\n",
    "    Wr = np.linspace(0,1.7,128)\n",
    "    Wi = np.linspace(-0.3,0.3,101)\n",
    "\n",
    "    D_arr = np.zeros((len(Wi), len(Wr)), dtype = complex)\n",
    "    if (method == D_analytic):\n",
    "        for i in range(len(Wi)):\n",
    "            for j in range(len(Wr)):\n",
    "                D_arr[i,j] = method(Wr[j], Wi[i], k0=k0, v0 = v0, nb = nb)\n",
    "    elif (method == z_func):\n",
    "        for i in range(len(Wi)):\n",
    "            for j in range(len(Wr)):\n",
    "                D_arr[i,j] = method(Wr[j], Wi[i], k0=k0)\n",
    "\n",
    "    \n",
    "    D_arr = np.abs(D_arr)\n",
    "    zeros = np.where(D_arr<2*D_arr.min())\n",
    "    return Wr[zeros[1]][:], Wi[zeros[0]][:]\n"
   ]
  },
  {
   "cell_type": "code",
   "execution_count": 24,
   "metadata": {},
   "outputs": [],
   "source": [
    "def D_analytic(wr, wi, k0, v0, nb):\n",
    "    vphi = wr/k0\n",
    "    eps_v = 1e-3\n",
    "    v = np.linspace(-12, vphi-eps_v,2048)\n",
    "    integral = np.trapz(dfBOTdv(v, v0, nb) / (v-(wr+1j*wi)/k0), v)\n",
    "    v = np.linspace(vphi+eps_v,12, 2048)\n",
    "    integral += np.trapz(dfBOTdv(v, v0, nb) / (v-(wr+1j*wi)/k0), v)\n",
    "    d = 1.-1./(k0**2) *integral\n",
    "    # deforming contour under pole\n",
    "    if wi == 0:\n",
    "        d -= 1j*np.pi/k0**2 * dfBOTdv((wr+1j*wi)/k0, v0, nb)\n",
    "    elif wi<0:\n",
    "        d -= 2j*np.pi/k0**2 * dfBOTdv((wr+1j*wi)/k0, v0, nb)\n",
    "    return d\n",
    "\n",
    "def G(t, xi): #this is the exponential/1-xi function inside the integral\n",
    "    return np.exp(-t**2)*1./(t-xi)\n",
    "\n",
    "def Z_analytic(wr, wi, k0, vth):\n",
    "    #vth=1 for electrons, can be different for ions?\n",
    "    vphi = wr/k0\n",
    "    eps_t = 1e-3\n",
    "    xi = (wr+1j*wi)*1./(k0*np.sqrt(2)*vth)\n",
    "    t = np.linspace(-12, vphi-eps_t,2048)\n",
    "    integral = np.trapz(G(t, xi), t)\n",
    "    t = np.linspace(vphi+eps_t,12, 2048)\n",
    "    integral += np.trapz(G(t, xi), t)\n",
    "    #pole contribution\n",
    "    if wi == 0:\n",
    "        sigma = 1\n",
    "    elif wi<0:\n",
    "        sigma = 2\n",
    "    else:\n",
    "        sigma = 0\n",
    "    d = (integral+1j*np.pi*sigma*np.exp(-xi**2))*1./np.sqrt(np.pi)\n",
    "    return d\n",
    "\n",
    "def Z_prime(wr, wi, k0, vth):\n",
    "    #formula for Z_prime in the notes\n",
    "    xi = (wr+1j*wi)*1./(k0*np.sqrt(2)*vth)\n",
    "    return -2-2*xi*Z_analytic(wr, wi, k0, vth)\n",
    "\n",
    "def D_IAW_analytic(wr, wi, k0, vthi, mratio): #vthi is the ion thermal velocity as a fraction of the electron thermal velocity\n",
    "    lambda_d = 1 #we are normalizing k0s to lambda_d\n",
    "    wpe = 1 #we are scaling the time to the plasma frequency of electrons\n",
    "    vthe = 1 #we are scaling the velocity to the thermal velocity of electrons, vthe = lambda_d/wpe\n",
    "    wpi = wpe*1./np.sqrt(mratio)\n",
    "    return 1-wpe*Z_prime(wr, wi, k0, lambda_d*wpe)*1./(np.sqrt(2)*(k0**2)*lambda_d*wpe)-wpi*Z_prime(wr, wi, k0, vthi)*1./(np.sqrt(2)*(k0**2)*vthi)\n",
    "\n",
    "def find_w_roots(k0, vthi, mratio):\n",
    "    Wr = np.linspace(0,1.7,128)\n",
    "    Wi = np.linspace(-0.3,0.3,101)\n",
    "\n",
    "    D_arr = np.zeros((len(Wi), len(Wr)), dtype = complex)\n",
    "    for i in range(len(Wi)):\n",
    "        for j in range(len(Wr)):\n",
    "            D_arr[i,j] = D_IAW_analytic(Wr[j], Wi[i], k0=k0, vthi=vthi, mratio=mratio)\n",
    "    \n",
    "    D_arr = np.abs(D_arr)\n",
    "    zeros = np.where(D_arr<2*D_arr.min())\n",
    "    return Wr[zeros[1]][:], Wi[zeros[0]][:]"
   ]
  },
  {
   "cell_type": "code",
   "execution_count": 27,
   "metadata": {},
   "outputs": [
    {
     "name": "stderr",
     "output_type": "stream",
     "text": [
      "C:\\Users\\rayne\\AppData\\Local\\Temp\\ipykernel_26376\\3076438550.py:35: RuntimeWarning: overflow encountered in exp\n",
      "  d = (integral+1j*np.pi*sigma*np.exp(-xi**2))*1./np.sqrt(np.pi)\n",
      "C:\\Users\\rayne\\AppData\\Local\\Temp\\ipykernel_26376\\3076438550.py:35: RuntimeWarning: invalid value encountered in scalar multiply\n",
      "  d = (integral+1j*np.pi*sigma*np.exp(-xi**2))*1./np.sqrt(np.pi)\n"
     ]
    },
    {
     "data": {
      "image/png": "[encoded data removed]",
      "text/plain": [
       "<Figure size 640x480 with 2 Axes>"
      ]
     },
     "metadata": {},
     "output_type": "display_data"
    }
   ],
   "source": [
    "ax1 = plt.subplot(1,2,1)\n",
    "ax1.set_xlabel(r'$k\\lambda_D$')\n",
    "ax1.set_ylabel(r'$\\omega_R/\\omega_p$')\n",
    "ax2 = plt.subplot(1,2,2)\n",
    "ax2.set_xlabel(r'$k\\lambda_D$')\n",
    "ax2.set_ylabel(r'$\\omega_I/\\omega_p$')\n",
    "\n",
    "k0s = np.linspace(0.1,0.7,14)\n",
    "\n",
    "Ti = 1 #ion temperature as a fraction of electron temperature\n",
    "mratio = 8*10**3 #ion mass as a fraction of electron mass\n",
    "vthi = Ti*1./mratio\n",
    "\n",
    "for k0 in k0s:\n",
    "    Wrs, Wis = find_w_roots(k0, vthi, mratio)\n",
    "    ax1.scatter(k0*np.ones(len(Wrs)), Wrs)\n",
    "    ax2.scatter(k0*np.ones(len(Wis)), Wis)\n",
    "\n",
    "plt.tight_layout()"
   ]
  },
  {
   "cell_type": "code",
   "execution_count": null,
   "metadata": {},
   "outputs": [],
   "source": []
  }
 ],
 "metadata": {
  "kernelspec": {
   "display_name": "Python 3",
   "language": "python",
   "name": "python3"
  },
  "language_info": {
   "codemirror_mode": {
    "name": "ipython",
    "version": 3
   },
   "file_extension": ".py",
   "mimetype": "text/x-python",
   "name": "python",
   "nbconvert_exporter": "python",
   "pygments_lexer": "ipython3",
   "version": "3.11.8"
  }
 },
 "nbformat": 4,
 "nbformat_minor": 2
}
